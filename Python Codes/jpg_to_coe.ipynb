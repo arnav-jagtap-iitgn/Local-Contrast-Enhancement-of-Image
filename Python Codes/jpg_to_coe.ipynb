{
 "cells": [
  {
   "cell_type": "code",
   "execution_count": null,
   "metadata": {},
   "outputs": [],
   "source": [
    "import numpy as np\n",
    "import matplotlib.image as Image\n",
    "\n",
    "# Load grayscale image\n",
    "path = \"C:\\IITGN 2nd year\\ES 204 Digital Systems\\Local-Contrast-Enhancement-of-Image\\Local Contrast Enhancement of Image\\\\105.jpg\"\n",
    "image= Image.imread(path)\n",
    "img_array = np.array(image)\n",
    "\n",
    "# # To convert padded image into coe\n",
    "# equalised_img = np.copy(image)\n",
    "# window_size = (45,45)\n",
    "# w= (window_size[0]-1)//2\n",
    "# # clip_lim = 10\n",
    "\n",
    "# # Pad the image using mirroring\n",
    "# padded_img = np.pad(equalised_img, w, mode='symmetric')\n",
    "\n",
    "# Convert pixel values to binary (8-bit per pixel)\n",
    "bin_array = img_array.flatten()  # Flatten the image\n",
    "\n",
    "# Save as a COE file (for Xilinx BRAM)\n",
    "with open(\"image.coe\", \"w\") as file:\n",
    "    file.write(\"memory_initialization_radix=2;\\n\")  # Use binary radix\n",
    "    file.write(\"memory_initialization_vector=\\n\")\n",
    "    for i, pixel in enumerate(bin_array):\n",
    "        file.write(f\"{pixel:08b},\\n\" if i < len(bin_array) - 1 else f\"{pixel:08b};\\n\")\n"
   ]
  }
 ],
 "metadata": {
  "kernelspec": {
   "display_name": "Python 3",
   "language": "python",
   "name": "python3"
  },
  "language_info": {
   "codemirror_mode": {
    "name": "ipython",
    "version": 3
   },
   "file_extension": ".py",
   "mimetype": "text/x-python",
   "name": "python",
   "nbconvert_exporter": "python",
   "pygments_lexer": "ipython3",
   "version": "3.11.4"
  }
 },
 "nbformat": 4,
 "nbformat_minor": 2
}
